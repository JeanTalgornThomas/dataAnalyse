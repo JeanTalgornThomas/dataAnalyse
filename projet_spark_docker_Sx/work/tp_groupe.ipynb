{
 "cells": [
  {
   "cell_type": "code",
   "execution_count": null,
   "metadata": {},
   "outputs": [],
   "source": []
  },
  {
   "cell_type": "markdown",
   "metadata": {
    "id": "tfS8OXBsYKlH"
   },
   "source": [
    "# Projet Big Data - Groupe 5"
   ]
  },
  {
   "cell_type": "markdown",
   "metadata": {
    "id": "qsG46IqwYKlO"
   },
   "source": [
    "L'Objectif du TP : \n",
    "Analyser des données provenant de plusieurs fichiers csv en utilisant les architectures Hadoop et Spark."
   ]
  },
  {
   "cell_type": "code",
   "execution_count": null,
   "metadata": {},
   "outputs": [],
   "source": []
  },
  {
   "cell_type": "markdown",
   "metadata": {
    "id": "b5GFRNaNYKlQ"
   },
   "source": [
    "Membres du groupe :\n",
    "- Jean TALGORN--THOMAS\n",
    "- Benjamin PRADON\n",
    "- Nassim AKIF\n",
    "- Salim BAMBA\n",
    "- Sophie PHOUANGSY\n",
    "- Abdenour BENSOUNA\n",
    "- Sarah PINTO"
   ]
  },
  {
   "cell_type": "code",
   "execution_count": 6,
   "metadata": {},
   "outputs": [],
   "source": [
    "from pyspark.sql import SparkSession\n",
    "spark = SparkSession.builder.getOrCreate()"
   ]
  },
  {
   "cell_type": "code",
   "execution_count": 8,
   "metadata": {},
   "outputs": [
    {
     "output_type": "execute_result",
     "data": {
      "text/plain": [
       "[('_c0', 'string'),\n",
       " ('_c1', 'string'),\n",
       " ('_c2', 'string'),\n",
       " ('_c3', 'string'),\n",
       " ('_c4', 'string'),\n",
       " ('_c5', 'string'),\n",
       " ('_c6', 'string'),\n",
       " ('_c7', 'string')]"
      ]
     },
     "metadata": {},
     "execution_count": 8
    }
   ],
   "source": [
    "path = \"./data/stockx/stockx-0001.csv\"\n",
    "# data = spark.read.load(\"/data/stockx/\", format=\"csv\", header=True, inferSchema=\"True\")\n",
    "df = spark.read.load(path, format=\"csv\")\n",
    "df.dtypes"
   ]
  },
  {
   "cell_type": "code",
   "execution_count": 10,
   "metadata": {},
   "outputs": [
    {
     "output_type": "execute_result",
     "data": {
      "text/plain": [
       "[('Order Date', 'string'),\n",
       " ('Brand', 'string'),\n",
       " ('Sneaker Name', 'string'),\n",
       " ('Sale Price', 'string'),\n",
       " ('Retail Price', 'string'),\n",
       " ('Release Date', 'string'),\n",
       " ('Shoe Size', 'string'),\n",
       " ('Buyer Region', 'string')]"
      ]
     },
     "metadata": {},
     "execution_count": 10
    }
   ],
   "source": [
    "df = spark.read.format('csv').options(header=True).load(path)\n",
    "df.dtypes"
   ]
  },
  {
   "cell_type": "code",
   "execution_count": 12,
   "metadata": {},
   "outputs": [
    {
     "output_type": "execute_result",
     "data": {
      "text/plain": [
       "[('Order Date', 'string'),\n",
       " ('Brand', 'string'),\n",
       " ('Sneaker Name', 'string'),\n",
       " ('Sale Price', 'string'),\n",
       " ('Retail Price', 'string'),\n",
       " ('Release Date', 'string'),\n",
       " ('Shoe Size', 'double'),\n",
       " ('Buyer Region', 'string')]"
      ]
     },
     "metadata": {},
     "execution_count": 12
    }
   ],
   "source": [
    "df = spark.read.format('csv').options(header=True, inferSchema=True).load(path)\n",
    "df.dtypes"
   ]
  },
  {
   "cell_type": "code",
   "execution_count": 14,
   "metadata": {},
   "outputs": [
    {
     "output_type": "execute_result",
     "data": {
      "text/plain": [
       "[Row(Order Date='\"9/1/17, Yeezy,Adidas-Yeezy-Boost-350-Low-V2-Beluga,\"\"$1', Brand='097\"\"', Sneaker Name='$220', Sale Price='9/24/16', Retail Price='11', Release Date='California\"', Shoe Size=None, Buyer Region=None),\n",
       " Row(Order Date='9/1/17', Brand=' Yeezy', Sneaker Name='Adidas-Yeezy-Boost-350-V2-Core-Black-Copper', Sale Price='$685', Retail Price='$220', Release Date='11/23/16', Shoe Size=11.0, Buyer Region='California'),\n",
       " Row(Order Date='9/1/17', Brand=' Yeezy', Sneaker Name='Adidas-Yeezy-Boost-350-V2-Core-Black-Green', Sale Price='$690', Retail Price='$220', Release Date='11/23/16', Shoe Size=11.0, Buyer Region='California'),\n",
       " Row(Order Date='\"9/1/17, Yeezy,Adidas-Yeezy-Boost-350-V2-Core-Black-Red,\"\"$1', Brand='075\"\"', Sneaker Name='$220', Sale Price='11/23/16', Retail Price='11.5', Release Date='Kentucky\"', Shoe Size=None, Buyer Region=None),\n",
       " Row(Order Date='9/1/17', Brand=' Yeezy', Sneaker Name='Adidas-Yeezy-Boost-350-V2-Core-Black-Red-2017', Sale Price='$828', Retail Price='$220', Release Date='2/11/17', Shoe Size=11.0, Buyer Region='Rhode Island')]"
      ]
     },
     "metadata": {},
     "execution_count": 14
    }
   ],
   "source": [
    "df.take(5)"
   ]
  }
 ],
 "metadata": {
  "colab": {
   "collapsed_sections": [],
   "name": "TP2_Hadoop_HDFS_MapReduce.ipynb",
   "provenance": []
  },
  "kernelspec": {
   "name": "python3",
   "display_name": "Python 3",
   "language": "python"
  },
  "language_info": {
   "codemirror_mode": {
    "name": "ipython",
    "version": 3
   },
   "file_extension": ".py",
   "mimetype": "text/x-python",
   "name": "python",
   "nbconvert_exporter": "python",
   "pygments_lexer": "ipython3",
   "version": "3.7.6-final"
  }
 },
 "nbformat": 4,
 "nbformat_minor": 1
}