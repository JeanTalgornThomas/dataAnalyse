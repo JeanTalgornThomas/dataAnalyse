{
  "nbformat": 4,
  "nbformat_minor": 0,
  "metadata": {
    "colab": {
      "name": "Untitled1.ipynb",
      "provenance": [],
      "collapsed_sections": []
    },
    "kernelspec": {
      "name": "python3",
      "display_name": "Python 3"
    }
  },
  "cells": [
    {
      "cell_type": "code",
      "metadata": {
        "colab": {
          "base_uri": "https://localhost:8080/"
        },
        "id": "a-WC09tptYaj",
        "outputId": "491cd27c-2bec-4478-985c-a5b9fa9a2ea2"
      },
      "source": [
        "!apt-get update"
      ],
      "execution_count": null,
      "outputs": [
        {
          "output_type": "stream",
          "text": [
            "\r0% [Working]\r            \rIgn:1 https://developer.download.nvidia.com/compute/cuda/repos/ubuntu1804/x86_64  InRelease\n",
            "\r0% [Connecting to archive.ubuntu.com (91.189.88.152)] [Connecting to security.u\r                                                                               \rGet:2 https://cloud.r-project.org/bin/linux/ubuntu bionic-cran40/ InRelease [3,626 B]\n",
            "\r0% [Connecting to archive.ubuntu.com (91.189.88.152)] [Connecting to security.u\r0% [Connecting to archive.ubuntu.com (91.189.88.152)] [Connecting to security.u\r0% [2 InRelease gpgv 3,626 B] [Connecting to archive.ubuntu.com (91.189.88.152)\r                                                                               \rIgn:3 https://developer.download.nvidia.com/compute/machine-learning/repos/ubuntu1804/x86_64  InRelease\n",
            "\r0% [2 InRelease gpgv 3,626 B] [Connecting to archive.ubuntu.com (91.189.88.152)\r                                                                               \rGet:4 https://developer.download.nvidia.com/compute/cuda/repos/ubuntu1804/x86_64  Release [697 B]\n",
            "\r0% [2 InRelease gpgv 3,626 B] [Connecting to archive.ubuntu.com (91.189.88.152)\r                                                                               \rHit:5 https://developer.download.nvidia.com/compute/machine-learning/repos/ubuntu1804/x86_64  Release\n",
            "Get:6 https://developer.download.nvidia.com/compute/cuda/repos/ubuntu1804/x86_64  Release.gpg [836 B]\n",
            "Get:7 http://ppa.launchpad.net/c2d4u.team/c2d4u4.0+/ubuntu bionic InRelease [15.9 kB]\n",
            "Hit:8 http://archive.ubuntu.com/ubuntu bionic InRelease\n",
            "Get:9 http://security.ubuntu.com/ubuntu bionic-security InRelease [88.7 kB]\n",
            "Get:10 http://archive.ubuntu.com/ubuntu bionic-updates InRelease [88.7 kB]\n",
            "Hit:12 http://ppa.launchpad.net/cran/libgit2/ubuntu bionic InRelease\n",
            "Get:13 http://archive.ubuntu.com/ubuntu bionic-backports InRelease [74.6 kB]\n",
            "Ign:14 https://developer.download.nvidia.com/compute/cuda/repos/ubuntu1804/x86_64  Packages\n",
            "Get:14 https://developer.download.nvidia.com/compute/cuda/repos/ubuntu1804/x86_64  Packages [548 kB]\n",
            "Hit:15 http://ppa.launchpad.net/graphics-drivers/ppa/ubuntu bionic InRelease\n",
            "Get:16 http://ppa.launchpad.net/c2d4u.team/c2d4u4.0+/ubuntu bionic/main Sources [1,715 kB]\n",
            "Get:17 http://security.ubuntu.com/ubuntu bionic-security/main amd64 Packages [1,890 kB]\n",
            "Get:18 http://archive.ubuntu.com/ubuntu bionic-updates/restricted amd64 Packages [314 kB]\n",
            "Get:19 http://security.ubuntu.com/ubuntu bionic-security/multiverse amd64 Packages [35.5 kB]\n",
            "Get:20 http://security.ubuntu.com/ubuntu bionic-security/universe amd64 Packages [1,381 kB]\n",
            "Get:21 http://archive.ubuntu.com/ubuntu bionic-updates/multiverse amd64 Packages [42.3 kB]\n",
            "Get:22 http://archive.ubuntu.com/ubuntu bionic-updates/main amd64 Packages [2,318 kB]\n",
            "Get:23 http://ppa.launchpad.net/c2d4u.team/c2d4u4.0+/ubuntu bionic/main amd64 Packages [878 kB]\n",
            "Get:24 http://archive.ubuntu.com/ubuntu bionic-updates/universe amd64 Packages [2,148 kB]\n",
            "Fetched 11.5 MB in 4s (3,269 kB/s)\n",
            "Reading package lists... Done\n"
          ],
          "name": "stdout"
        }
      ]
    },
    {
      "cell_type": "code",
      "metadata": {
        "id": "_dzgyT1xtirc"
      },
      "source": [
        "!apt-get install openjdk-8-jdk-headless -qq > /dev/null"
      ],
      "execution_count": null,
      "outputs": []
    },
    {
      "cell_type": "code",
      "metadata": {
        "id": "9uuu7TZTtv4y"
      },
      "source": [
        "!wget -q http://archive.apache.org/dist/spark/spark-2.3.1/spark-2.3.1-bin-hadoop2.7.tgz"
      ],
      "execution_count": null,
      "outputs": []
    },
    {
      "cell_type": "code",
      "metadata": {
        "id": "lZuGoxfyuFF-"
      },
      "source": [
        "!tar xf spark-2.3.1-bin-hadoop2.7.tgz"
      ],
      "execution_count": null,
      "outputs": []
    },
    {
      "cell_type": "code",
      "metadata": {
        "id": "0VYLIeDvuHyO"
      },
      "source": [
        "!pip install -q findspark"
      ],
      "execution_count": null,
      "outputs": []
    },
    {
      "cell_type": "code",
      "metadata": {
        "id": "odI7WrWtuJ8X"
      },
      "source": [
        "import os\r\n",
        "os.environ[\"JAVA_HOME\"] = \"/usr/lib/jvm/java-8-openjdk-amd64\"\r\n",
        "os.environ[\"SPARK_HOME\"] = \"/content/spark-2.3.1-bin-hadoop2.7\""
      ],
      "execution_count": null,
      "outputs": []
    },
    {
      "cell_type": "code",
      "metadata": {
        "id": "SW0kRHPduh_j"
      },
      "source": [
        "import findspark\r\n",
        "findspark.init()\r\n",
        "from pyspark import SparkContext"
      ],
      "execution_count": null,
      "outputs": []
    },
    {
      "cell_type": "code",
      "metadata": {
        "id": "8uJnRfEpuk1W"
      },
      "source": [
        "sc = SparkContext.getOrCreate()"
      ],
      "execution_count": null,
      "outputs": []
    },
    {
      "cell_type": "code",
      "metadata": {
        "id": "b96KNcHkusri"
      },
      "source": [
        "from pyspark.sql import SparkSession\r\n",
        "spark = SparkSession.builder.getOrCreate()"
      ],
      "execution_count": null,
      "outputs": []
    },
    {
      "cell_type": "code",
      "metadata": {
        "id": "Osad12D8uuMl"
      },
      "source": [
        "data = spark.read.load(\"./data/stockx/\", format=\"csv\", header=True, inferSchema=\"True\")"
      ],
      "execution_count": null,
      "outputs": []
    },
    {
      "cell_type": "code",
      "metadata": {
        "colab": {
          "base_uri": "https://localhost:8080/"
        },
        "id": "HGTw9cb9vtma",
        "outputId": "41edff5f-97ad-41a1-bd0b-26b0dcb3149c"
      },
      "source": [
        "nombre_vente_total = data.count()\r\n",
        "print(nombre_vente_total)"
      ],
      "execution_count": null,
      "outputs": [
        {
          "output_type": "stream",
          "text": [
            "99956\n"
          ],
          "name": "stdout"
        }
      ]
    },
    {
      "cell_type": "code",
      "metadata": {
        "colab": {
          "base_uri": "https://localhost:8080/"
        },
        "id": "bKo48fdcCAXU",
        "outputId": "9178f17d-aa8c-43b4-b1e5-4ba6cd05867b"
      },
      "source": [
        "dix_premiere_vente = data.head(10)\r\n",
        "print(data.head(10))"
      ],
      "execution_count": 198,
      "outputs": [
        {
          "output_type": "stream",
          "text": [
            "[Row(Order Date='3/7/18', Brand=' Yeezy', Sneaker Name='Adidas-Yeezy-Boost-350-V2-Blue-Tint', Sale Price='$390', Retail Price='$220', Release Date='12/16/17', Shoe Size=11.0, Buyer Region='Florida'), Row(Order Date='3/7/18', Brand=' Yeezy', Sneaker Name='Adidas-Yeezy-Boost-350-V2-Blue-Tint', Sale Price='$399', Retail Price='$220', Release Date='12/16/17', Shoe Size=13.0, Buyer Region='New York'), Row(Order Date='3/7/18', Brand=' Yeezy', Sneaker Name='Adidas-Yeezy-Boost-350-V2-Blue-Tint', Sale Price='$370', Retail Price='$220', Release Date='12/16/17', Shoe Size=9.0, Buyer Region='New York'), Row(Order Date='3/7/18', Brand=' Yeezy', Sneaker Name='Adidas-Yeezy-Boost-350-V2-Blue-Tint', Sale Price='$423', Retail Price='$220', Release Date='12/16/17', Shoe Size=5.0, Buyer Region='New York'), Row(Order Date='3/7/18', Brand=' Yeezy', Sneaker Name='Adidas-Yeezy-Boost-350-V2-Blue-Tint', Sale Price='$375', Retail Price='$220', Release Date='12/16/17', Shoe Size=10.0, Buyer Region='Pennsylvania'), Row(Order Date='3/7/18', Brand=' Yeezy', Sneaker Name='Adidas-Yeezy-Boost-350-V2-Blue-Tint', Sale Price='$368', Retail Price='$220', Release Date='12/16/17', Shoe Size=8.5, Buyer Region='North Carolina'), Row(Order Date='3/7/18', Brand=' Yeezy', Sneaker Name='Adidas-Yeezy-Boost-350-V2-Blue-Tint', Sale Price='$360', Retail Price='$220', Release Date='12/16/17', Shoe Size=8.5, Buyer Region='Illinois'), Row(Order Date='3/7/18', Brand=' Yeezy', Sneaker Name='Adidas-Yeezy-Boost-350-V2-Blue-Tint', Sale Price='$422', Retail Price='$220', Release Date='12/16/17', Shoe Size=5.0, Buyer Region='Oregon'), Row(Order Date='3/7/18', Brand=' Yeezy', Sneaker Name='Adidas-Yeezy-Boost-350-V2-Blue-Tint', Sale Price='$366', Retail Price='$220', Release Date='12/16/17', Shoe Size=8.0, Buyer Region='Minnesota'), Row(Order Date='3/7/18', Brand=' Yeezy', Sneaker Name='Adidas-Yeezy-Boost-350-V2-Blue-Tint', Sale Price='$422', Retail Price='$220', Release Date='12/16/17', Shoe Size=5.0, Buyer Region='Delaware')]\n"
          ],
          "name": "stdout"
        }
      ]
    },
    {
      "cell_type": "code",
      "metadata": {
        "colab": {
          "base_uri": "https://localhost:8080/"
        },
        "id": "uKQYp76KLKgP",
        "outputId": "b9f4a389-7631-448b-9802-7266cff225da"
      },
      "source": [
        "resultat = data.groupBy('Sneaker Name').count().orderBy('count').collect()\r\n",
        "\r\n",
        "marque_moins_achete = resultat[0]\r\n",
        "marque_plus_achete = resultat[len(resultat)-1]\r\n",
        "\r\n",
        "print('La marque la moins acheté est :', marque_moins_achete[\"Sneaker Name\"], 'acheté ' + str(marque_moins_achete[\"count\"]), 'fois')\r\n",
        "print('La marque la plus acheté est :', marque_plus_achete[\"Sneaker Name\"], 'acheté ' + str(marque_plus_achete[\"count\"]), 'fois')"
      ],
      "execution_count": 233,
      "outputs": [
        {
          "output_type": "stream",
          "text": [
            "La marque la moins acheté est : Air-Jordan-1-Retro-High-Off-White-Chicago acheté 1 fois\n",
            "La marque la plus acheté est : adidas-Yeezy-Boost-350-V2-Butter acheté 11423 fois\n"
          ],
          "name": "stdout"
        }
      ]
    },
    {
      "cell_type": "code",
      "metadata": {
        "colab": {
          "base_uri": "https://localhost:8080/"
        },
        "id": "5wV3ZaMzCqlD",
        "outputId": "f40f8542-9520-4711-b64a-6742e5df3a9e"
      },
      "source": [
        "resultat = data.groupBy('Buyer Region').count().orderBy('count').collect()\r\n",
        "\r\n",
        "etats_moins_achete = resultat[0]\r\n",
        "etats_plus_achete = resultat[len(resultat)-1]\r\n",
        "\r\n",
        "print('L\\'état qui a le moins acheté est :', etats_moins_achete[\"Buyer Region\"], 'a fait ' + str(etats_moins_achete[\"count\"]), 'achats')\r\n",
        "print('L\\'état qui a le plus acheté est :', etats_plus_achete[\"Buyer Region\"], 'a fait ' + str(etats_plus_achete[\"count\"]), 'achats')"
      ],
      "execution_count": 238,
      "outputs": [
        {
          "output_type": "stream",
          "text": [
            "L'état qui a le moins acheté est : Wyoming a fait 40 achats\n",
            "L'état qui a le plus acheté est : California a fait 18485 achats\n"
          ],
          "name": "stdout"
        }
      ]
    }
  ]
}