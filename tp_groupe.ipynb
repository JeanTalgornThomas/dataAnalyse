{
 "cells": [
  {
   "cell_type": "markdown",
   "metadata": {
    "id": "tfS8OXBsYKlH"
   },
   "source": [
    "# Projet Big Data - Groupe 5"
   ]
  },
  {
   "cell_type": "markdown",
   "metadata": {
    "id": "qsG46IqwYKlO"
   },
   "source": [
    "L'Objectif du TP : \n",
    "Analyser des données provenant de plusieurs fichiers csv en utilisant les architectures Hadoop et Spark."
   ]
  },
  {
   "cell_type": "markdown",
   "metadata": {
    "id": "b5GFRNaNYKlQ"
   },
   "source": [
    "Membres du groupe :\n",
    "- Jean TALGORN--THOMAS\n",
    "- Benjamin PRADON\n",
    "- Nassim AKIF\n",
    "- Salim BAMBA\n",
    "- Sophie PHOUANGSY\n",
    "- Abdenour BENSOUNA\n",
    "- Sarah PINTO"
   ]
  }
 ],
 "metadata": {
  "colab": {
   "collapsed_sections": [],
   "name": "TP2_Hadoop_HDFS_MapReduce.ipynb",
   "provenance": []
  },
  "kernelspec": {
   "display_name": "Python 3",
   "language": "python",
   "name": "python3"
  },
  "language_info": {
   "codemirror_mode": {
    "name": "ipython",
    "version": 3
   },
   "file_extension": ".py",
   "mimetype": "text/x-python",
   "name": "python",
   "nbconvert_exporter": "python",
   "pygments_lexer": "ipython3",
   "version": "3.8.5"
  }
 },
 "nbformat": 4,
 "nbformat_minor": 1
}